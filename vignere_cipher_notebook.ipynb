{
 "cells": [
  {
   "cell_type": "code",
   "execution_count": 35,
   "id": "19a6ab6e",
   "metadata": {},
   "outputs": [],
   "source": [
    "# Vignere Cipher function\n",
    "def test_key(key):\n",
    "    for ch in key:\n",
    "        if not ch.isalpha():\n",
    "            return False\n",
    "    return True \n",
    "\n",
    "\n",
    "def enc_caesar(letter, key):\n",
    "    return((convertToInt(letter) + convertToInt(key)) % 26)\n",
    "\n",
    "def dec_caesar(letter, key):\n",
    "    return (26 + convertToInt(letter) - convertToInt(key)) % 26\n",
    "\n",
    "def convertToInt(key):\n",
    "    return ord(key) - 97\n",
    "\n",
    "def convertToChar(num):\n",
    "    return chr(num + 97)\n",
    "    \n",
    "    \n",
    "def enc_vigenere(key, plaintext):\n",
    "    # Remove spaces and special characters that are non alphanumeric\n",
    "    # lower case all the leters\n",
    "    test_string = \"\".join(ch for ch in plaintext if ch.isalpha()).lower();\n",
    "    \n",
    "    # Test if key is valid\n",
    "    if not test_key(key):\n",
    "        print(\"This is not a valid key!\")\n",
    "        return 0\n",
    "    \n",
    "    key = key.lower()\n",
    "    restart_key_flag = len(key)\n",
    "    result = \"\"\n",
    "    # run a caesar cipher for all characters\n",
    "    for i in range(len(test_string)):\n",
    "        result = result + convertToChar(enc_caesar(test_string[i], key[i % restart_key_flag]))\n",
    "            \n",
    "    return result\n",
    "\n",
    "\n",
    "def dec_vigenere(key, ciphertext):\n",
    "    # Test if key is valid\n",
    "    if not test_key(key):\n",
    "        print(\"This is not a valid key!\")\n",
    "        return 0\n",
    "    \n",
    "    key = key.lower()\n",
    "    \n",
    "    restart_key_flag = len(key)\n",
    "    result = \"\"\n",
    "    # run a caesar cipher for all characters\n",
    "    for i in range(len(ciphertext)):\n",
    "        result = result + convertToChar(dec_caesar(ciphertext[i], key[i % restart_key_flag]))\n",
    "            \n",
    "    return result.upper()\n"
   ]
  },
  {
   "cell_type": "code",
   "execution_count": 36,
   "id": "f1939ea4",
   "metadata": {},
   "outputs": [
    {
     "name": "stdout",
     "output_type": "stream",
     "text": [
      "What would you like to encrypt?\n",
      "\n",
      "I need to encrypt this message\n",
      "What is the key?\n",
      "love\n",
      "Ciphertext:  tbziohjiyqmcaholtghidgvkp\n",
      "Plaintext:  INEEDTOENCRYPTTHISMESSAGE\n"
     ]
    }
   ],
   "source": [
    "# Ask input from user\n",
    "print(\"What would you like to encrypt?\\n\")\n",
    "pt = input()\n",
    "print(\"What is the key?\")\n",
    "key = input()\n",
    "\n",
    "# encrypt first\n",
    "ct = enc_vigenere(key, pt)\n",
    "print(\"Ciphertext: \", ct)\n",
    "\n",
    "#Decrypt Next\n",
    "print(\"Plaintext: \", dec_vigenere(key, ct))"
   ]
  },
  {
   "cell_type": "code",
   "execution_count": null,
   "id": "5e8d53b5",
   "metadata": {},
   "outputs": [],
   "source": []
  }
 ],
 "metadata": {
  "kernelspec": {
   "display_name": "Python 3 (ipykernel)",
   "language": "python",
   "name": "python3"
  },
  "language_info": {
   "codemirror_mode": {
    "name": "ipython",
    "version": 3
   },
   "file_extension": ".py",
   "mimetype": "text/x-python",
   "name": "python",
   "nbconvert_exporter": "python",
   "pygments_lexer": "ipython3",
   "version": "3.9.12"
  }
 },
 "nbformat": 4,
 "nbformat_minor": 5
}
